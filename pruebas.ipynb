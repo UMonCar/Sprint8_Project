{
 "cells": [
  {
   "cell_type": "code",
   "execution_count": null,
   "metadata": {},
   "outputs": [],
   "source": [
    "# first_activity_date = orders.groupby(['uid'])['buy_ts'].min()\n",
    "# first_activity_date.name = 'first_activity_date'\n",
    "# orders = orders.join(first_activity_date, on='uid')"
   ]
  },
  {
   "cell_type": "code",
   "execution_count": null,
   "metadata": {},
   "outputs": [],
   "source": [
    "# orders['activity_week'] = pd.to_datetime(\n",
    "#     orders['buy_ts'], unit='d'\n",
    "# ) - pd.to_timedelta(orders['buy_ts'].dt.dayofweek, unit='d')\n",
    "# orders['first_activity_week'] = pd.to_datetime(\n",
    "#     orders['first_activity_date'], unit='d'\n",
    "# ) - pd.to_timedelta(\n",
    "#     orders['first_activity_date'].dt.dayofweek, unit='d'\n",
    "# )\n",
    "# orders['cohort_lifetime'] = (\n",
    "#     orders['activity_week'] - orders['first_activity_week']\n",
    "# )\n",
    "# orders['cohort_lifetime'] = orders[\n",
    "#     'cohort_lifetime'\n",
    "# ] / np.timedelta64(1, 'W')\n",
    "# orders['cohort_lifetime'] = orders['cohort_lifetime'].astype(int)\n",
    "\n",
    "# cohorts = (\n",
    "#     orders.groupby(['first_activity_week', 'cohort_lifetime'])\n",
    "#     .agg({'uid' : 'nunique'})\n",
    "#     .reset_index()\n",
    "#           ) # Crea aquí el DataFrame con cohortes \n",
    "# initial_users_count = cohorts[cohorts['cohort_lifetime'] == 0][['first_activity_week', 'uid']] # Crea el DataFrame aquí \n",
    "# initial_users_count = initial_users_count.rename(\n",
    "#     columns={'uid': 'cohort_users'}\n",
    "# ) # Cambia el nombre de la columna del DataFrame \n",
    "# cohorts = cohorts.merge(initial_users_count, on= 'first_activity_week') # Une las cohortes del DataFrame e initital_users_count\n",
    "# cohorts['retention'] = cohorts['uid'] / cohorts['cohort_users'] # Calcula la tasa de retención \n",
    "# retention_pivot = cohorts.pivot_table(\n",
    "#     index = 'first_activity_week',\n",
    "#     columns = 'cohort_lifetime',\n",
    "#     values = 'retention',\n",
    "#     aggfunc = 'sum'\n",
    "# ) # Compila una tabla dinámica \n",
    "# # Imprime la tabla dinámica\n",
    "# print(retention_pivot)\n",
    "# # sns.set_theme(style='white')\n",
    "# # plt.figure(figsize=(13, 9))\n",
    "# # plt.title('Cohortes: retención de usuarios/as')\n",
    "# # sns.heatmap(\n",
    "# #     retention_pivot, annot=True, fmt='.1%', linewidths=1, linecolor='gray'\n",
    "# # )"
   ]
  },
  {
   "cell_type": "code",
   "execution_count": null,
   "metadata": {},
   "outputs": [],
   "source": [
    "# costs_us.info()\n",
    "\n",
    "# costs_d = costs_us.groupby('dt').agg({'costs' : 'sum'}).reset_index()\n",
    "# # print(costs_d)\n",
    "# costs_d.info()\n",
    "# # print(type(costs_d))\n",
    "# costs_d['dt'].describe()\n",
    "\n",
    "# source_costs = costs_us.groupby('source_id', observed=False).agg({'costs':'sum'})\n",
    "# print(source_costs)"
   ]
  },
  {
   "cell_type": "code",
   "execution_count": null,
   "metadata": {},
   "outputs": [],
   "source": [
    "# for source_ in sources:\n",
    "#     rep = marketing_metrics(costs_time, source_, 2, False)\n",
    "\n",
    "#     rep.index = costs_time['month'].dt.strftime('%Y-%m').unique()\n",
    "\n",
    "#     plt.figure(figsize=(9, 5))\n",
    "#     # plt.title('')\n",
    "#     ax = sns.heatmap(\n",
    "#         rep,\n",
    "#         annot=True,\n",
    "#         fmt='.2f',\n",
    "#         linewidths=1,\n",
    "#         linecolor='gray',\n",
    "#     )\n",
    "\n",
    "#     filename = 'heatmap_source_' + str(source_)\n",
    "#     plt.title(('Retorno de la inversión en marketing (ROMI) de la fuente ' + str(source_)))\n",
    "\n",
    "#     # print(filename)\n",
    "#     plt.savefig(f\"{filename}.png\")\n",
    "\n",
    "# plt.show()"
   ]
  }
 ],
 "metadata": {
  "language_info": {
   "name": "python"
  }
 },
 "nbformat": 4,
 "nbformat_minor": 2
}
